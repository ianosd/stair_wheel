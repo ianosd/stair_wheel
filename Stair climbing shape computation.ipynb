{
 "cells": [
  {
   "cell_type": "code",
   "execution_count": 82,
   "metadata": {},
   "outputs": [],
   "source": [
    "import numpy as np\n",
    "import math\n",
    "import matplotlib.pyplot as plt\n",
    "import scipy.optimize as optimize\n",
    "from collections import namedtuple "
   ]
  },
  {
   "cell_type": "markdown",
   "metadata": {},
   "source": [
    "Suppose we are dealing with some stairs defined by:"
   ]
  },
  {
   "cell_type": "code",
   "execution_count": 83,
   "metadata": {},
   "outputs": [],
   "source": [
    "stair_width = 30\n",
    "stair_height = 20"
   ]
  },
  {
   "cell_type": "markdown",
   "metadata": {},
   "source": [
    "Let's plot them:"
   ]
  },
  {
   "cell_type": "code",
   "execution_count": 84,
   "metadata": {},
   "outputs": [],
   "source": [
    "def plot_stairs(x, y, num_climbs=1):\n",
    "    for i in range(num_climbs):\n",
    "        plt.plot([x, x+stair_width], [y, y], 'b')\n",
    "        x += stair_width\n",
    "        plt.plot([x, x], [y, y+stair_height], 'b')\n",
    "        y += stair_height"
   ]
  },
  {
   "cell_type": "code",
   "execution_count": 85,
   "metadata": {},
   "outputs": [
    {
     "data": {
      "image/png": "[encoded data removed]",
      "text/plain": [
       "<Figure size 432x288 with 1 Axes>"
      ]
     },
     "metadata": {
      "needs_background": "light"
     },
     "output_type": "display_data"
    }
   ],
   "source": [
    "plot_stairs(0, 0, 2)\n",
    "plt.show()"
   ]
  },
  {
   "cell_type": "markdown",
   "metadata": {},
   "source": [
    "We will search for shapes parameterized by an array of radii, $r$, spanned over an angular region of size $\\Delta\\theta$, which is repeated for $n$ times inside a $2\\pi$ region."
   ]
  },
  {
   "cell_type": "code",
   "execution_count": 98,
   "metadata": {},
   "outputs": [],
   "source": [
    "class WheelGeometry:\n",
    "    def __init__(self, r, Dtheta, n):\n",
    "        self.r = r\n",
    "        self.Dtheta = Dtheta\n",
    "        self.n = n\n",
    "        \n",
    "    # We define some additional useful properties\n",
    "    \n",
    "    @property\n",
    "    def theta_step(self):\n",
    "        return self.Dtheta/(self.r.size - 1)\n",
    "    \n",
    "    @property\n",
    "    def rp(self):\n",
    "        return (self.r[1:] - self.r[0:-1])/self.theta_step\n",
    "    \n",
    "    @property\n",
    "    def curve_length(self):\n",
    "        return np.sum(self.chunk_lengths)\n",
    "    \n",
    "    @property\n",
    "    def chunk_lengths(self):\n",
    "        return np.sqrt(self.r[0:-1]**2 + self.r[1:]**2 - 2*np.cos(self.theta_step)*self.r[0:-1]*self.r[1:])\n",
    "    \n",
    "    @property\n",
    "    def centre_trajectory(self):\n",
    "        g = self\n",
    "        bwd_angles = compute_backward_angle(g.r[:-1], g.r[1:], g.theta_step)\n",
    "        fwd_angles = compute_angle(g.r[:-1], g.r[1:], g.theta_step)\n",
    "\n",
    "        steps = 10\n",
    "        result = np.empty((2, 0), dtype=g.r.dtype)\n",
    "        l = np.cumsum(g.chunk_lengths)\n",
    "        for i in range(g.r.size-2):\n",
    "            fwd_angle = fwd_angles[i]\n",
    "            bwd_angle = bwd_angles[i+1]\n",
    "            pos_angles = np.pi - lerp(fwd_angle, bwd_angle, np.linspace(0, 1, steps))\n",
    "            pos = np.array([g.r[i+1]*np.cos(pos_angles) + l[i], g.r[i+1]*np.sin(pos_angles)])\n",
    "            result = np.concatenate((result, pos), 1)\n",
    "\n",
    "        return result - np.repeat(np.array([result[:, 0]]).T, result.shape[1], 1)\n",
    "\n",
    "    @property\n",
    "    def centre_trajectory_length(self):\n",
    "        trajectory_segments = self.centre_trajectory[:, 1:] - self.centre_trajectory[:, :-1]\n",
    "        return np.sum(np.sqrt(np.sum(trajectory_segments**2, 1)))"
   ]
  },
  {
   "cell_type": "markdown",
   "metadata": {},
   "source": [
    "We will actually pick a fixed $n=3$ for now.\n",
    "\n",
    "We also define some utility functions that will allow us to switch between `WheelGeometry` instances and an array representation with the fixed n."
   ]
  },
  {
   "cell_type": "code",
   "execution_count": 101,
   "metadata": {},
   "outputs": [],
   "source": [
    "n = 4\n",
    "\n",
    "def array_to_wheel_geometry(array):\n",
    "    return WheelGeometry(array[:-1], array[-1], n)\n",
    "\n",
    "def make_array_geometry(r, Dtheta):\n",
    "    return np.append(r, Dtheta)\n",
    "\n",
    "def takes_array_geometry(func):\n",
    "    def decorated_func(array_or_geometry, *args, **kwargs):\n",
    "        if type(array_or_geometry) is np.ndarray:\n",
    "            return func(array_to_wheel_geometry(array_or_geometry), *args, **kwargs)\n",
    "        elif type(array_or_geometry) is WheelGeometry:\n",
    "            return func(array_or_geometry, *args, **kwargs)\n",
    "        else:\n",
    "            raise TypeError(\"Expected array or WheelGeometry. Got instead {}\".format(type(array_or_geometry)))\n",
    "    return decorated_func"
   ]
  },
  {
   "cell_type": "markdown",
   "metadata": {},
   "source": [
    "For example, a wheel defined by $r = ({1.1}^0, {1.1}^1, \\dots, {1.1}^{10}), \\Delta\\theta=\\pi/6, n=3$ would look like this:"
   ]
  },
  {
   "cell_type": "code",
   "execution_count": 102,
   "metadata": {},
   "outputs": [
    {
     "data": {
      "image/png": "[encoded data removed]",
      "text/plain": [
       "<Figure size 432x288 with 1 Axes>"
      ]
     },
     "metadata": {
      "needs_background": "light"
     },
     "output_type": "display_data"
    }
   ],
   "source": [
    "@takes_array_geometry\n",
    "def plot_wheel(g, *args, **kwargs):\n",
    "    if not args:\n",
    "        args = ('b',)\n",
    "\n",
    "    if 'transform' in kwargs:\n",
    "        transform = kwargs['transform']\n",
    "    else:\n",
    "        transform = np.eye(3)\n",
    "\n",
    "    xx, yy = [], []\n",
    "    thetas_one_segm = np.linspace(0, g.Dtheta, g.r.size)\n",
    "    for i in range(g.n):\n",
    "        thetas = thetas_one_segm + i*2*np.pi/g.n\n",
    "        x = g.r*np.cos(thetas)\n",
    "        y = g.r*np.sin(thetas)\n",
    "        \n",
    "        joined = np.concatenate(([x], [y], np.ones((1, x.size))))\n",
    "        transformed = transform.dot(joined)\n",
    "    \n",
    "        x = transformed[0, :]\n",
    "        y = transformed[1, :]\n",
    "\n",
    "        xx.append(x)\n",
    "        yy.append(y)\n",
    "\n",
    "    x = np.concatenate(xx)\n",
    "    x = np.append(x, x[0])\n",
    "    y = np.concatenate(yy)\n",
    "    y = np.append(y, y[0])\n",
    "    plt.plot(x, y, *args)\n",
    "    plt.plot(0, 0, 'r*')\n",
    "    \n",
    "plot_wheel(WheelGeometry(1.1**(np.linspace(0, 10, 11)), 2*np.pi/3, 3))\n",
    "plt.axis('equal')\n",
    "plt.show()"
   ]
  },
  {
   "cell_type": "markdown",
   "metadata": {},
   "source": [
    "We want to search for shapes that satisfy a couple of constraints.\n",
    "We pose this in the usual way, where a function of our input must be zero, $C(g) = 0$.\n",
    "Here's the code for the function $C$:"
   ]
  },
  {
   "cell_type": "code",
   "execution_count": 103,
   "metadata": {},
   "outputs": [],
   "source": [
    "@takes_array_geometry\n",
    "def zero_constraints(g):\n",
    "    alpha_0 = compute_backward_angle(g.r[0], g.r[1], g.theta_step)\n",
    "    alpha_1 = compute_angle(g.r[-2], g.r[-1], g.theta_step)\n",
    "\n",
    "    Dalpha = alpha_1 - alpha_0\n",
    "    c0 = g.curve_length - np.cos(alpha_1)*g.r[-1] + np.cos(alpha_0)*g.r[0] - stair_width\n",
    "    c1 = g.r[-1]*np.sin(alpha_1) - g.r[0]*np.sin(alpha_0) - stair_height\n",
    "\n",
    "    c2 = g.Dtheta + Dalpha - 2*np.pi/g.n\n",
    "\n",
    "    return np.array([c0, c1, c2])\n",
    "\n",
    "def compute_angle(r0, r1, dtheta):\n",
    "    r2 = np.sqrt(r0**2 + r1**2 - 2*np.cos(dtheta)*r0*r1)\n",
    "    sin_angle = np.sin(dtheta) * r0/r2\n",
    "    cos_angle = (r1**2 + r2**2 - r0**2)/(2*r1*r2)\n",
    "    return np.arctan2(sin_angle, cos_angle)\n",
    "\n",
    "def compute_backward_angle(r0, r1, dtheta):\n",
    "    return dtheta + compute_angle(r0, r1, dtheta)"
   ]
  },
  {
   "cell_type": "markdown",
   "metadata": {},
   "source": [
    "There are also a couple of inequality constraints:"
   ]
  },
  {
   "cell_type": "code",
   "execution_count": 104,
   "metadata": {},
   "outputs": [],
   "source": [
    "@takes_array_geometry\n",
    "def inequality_constraints(g):\n",
    "    curve_length_constraint = stair_width*0.6 - g.curve_length\n",
    "    \n",
    "    c = np.cos(g.theta_step)\n",
    "    s = np.sin(g.theta_step)\n",
    "    c2 = np.cos(2*g.theta_step)\n",
    "    s2 = np.sin(2*g.theta_step)\n",
    "\n",
    "    r = g.r\n",
    "\n",
    "    curve_is_convex_constraints = r[:-2]*(s*r[1:-1] - s2*r[2:]) + r[1:-1]*r[2:]*(c*s2 - c2*s)\n",
    "    return np.append(curve_is_convex_constraints, curve_length_constraint)"
   ]
  },
  {
   "cell_type": "markdown",
   "metadata": {},
   "source": [
    "To properly determine the shape, we will pose an optimization criterion on the curve.\n",
    "The criterion will be formulated in terms of the trajectory of the centre when rolling on the stairs surface.\n",
    "We will optimize the length of this trajectory as the wheel rolls along one of its curved segments."
   ]
  },
  {
   "cell_type": "code",
   "execution_count": 105,
   "metadata": {},
   "outputs": [],
   "source": [
    "@takes_array_geometry\n",
    "def get_trajectory_length(g):\n",
    "    return g.centre_trajectory_length"
   ]
  },
  {
   "cell_type": "markdown",
   "metadata": {},
   "source": [
    "We now pick an initial point:"
   ]
  },
  {
   "cell_type": "code",
   "execution_count": 106,
   "metadata": {},
   "outputs": [
    {
     "data": {
      "image/png": "[encoded data removed]",
      "text/plain": [
       "<Figure size 432x288 with 1 Axes>"
      ]
     },
     "metadata": {
      "needs_background": "light"
     },
     "output_type": "display_data"
    }
   ],
   "source": [
    "x0 = make_array_geometry(stair_width*np.exp(stair_height/stair_width * np.linspace(0, 1, 20)), 1)\n",
    "plot_wheel(x0)\n",
    "plt.show()"
   ]
  },
  {
   "cell_type": "code",
   "execution_count": 107,
   "metadata": {},
   "outputs": [
    {
     "data": {
      "image/png": "[encoded data removed]",
      "text/plain": [
       "<Figure size 432x288 with 1 Axes>"
      ]
     },
     "metadata": {
      "needs_background": "light"
     },
     "output_type": "display_data"
    }
   ],
   "source": [
    "eq_constr = {'type': 'eq', 'fun': zero_constraints}\n",
    "ineq_constr = {'type': 'ineq', 'fun': inequality_constraints}\n",
    "bounds_constr = optimize.Bounds(0.1, np.append(np.repeat(100, x0.size - 1), 2*np.pi/n))\n",
    "\n",
    "opt_res = optimize.minimize(get_trajectory_length, x0, bounds=bounds_constr, constraints=(eq_constr, ineq_constr))\n",
    "g_result = array_to_wheel_geometry(opt_res.x)\n",
    "plot_wheel(g_result)\n",
    "plt.axis('equal')\n",
    "plt.show()"
   ]
  }
 ],
 "metadata": {
  "kernelspec": {
   "display_name": "Python 3",
   "language": "python",
   "name": "python3"
  },
  "language_info": {
   "codemirror_mode": {
    "name": "ipython",
    "version": 3
   },
   "file_extension": ".py",
   "mimetype": "text/x-python",
   "name": "python",
   "nbconvert_exporter": "python",
   "pygments_lexer": "ipython3",
   "version": "3.6.6"
  }
 },
 "nbformat": 4,
 "nbformat_minor": 2
}
